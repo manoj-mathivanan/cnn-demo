{
  "cells": [
    {
      "cell_type": "markdown",
      "metadata": {
        "id": "view-in-github",
        "colab_type": "text"
      },
      "source": [
        "<a href=\"https://colab.research.google.com/github/manoj-mathivanan/cnn-demo/blob/main/Exercises/E0%20Pytorch/pytorch_fundamentals_exercise.ipynb\" target=\"_parent\"><img src=\"https://colab.research.google.com/assets/colab-badge.svg\" alt=\"Open In Colab\"/></a>"
      ]
    },
    {
      "cell_type": "markdown",
      "metadata": {
        "id": "AzDBM_v4iMe7"
      },
      "source": [
        "# **PyTorch Fundamentals Exercise**\n",
        "\n"
      ]
    },
    {
      "cell_type": "code",
      "execution_count": 1,
      "metadata": {
        "id": "XPUG4n_skaq1"
      },
      "outputs": [],
      "source": [
        "# Import all the necessary libraries here\n",
        "import torch"
      ]
    },
    {
      "cell_type": "markdown",
      "metadata": {
        "id": "__iXqqz-ioUJ"
      },
      "source": [
        "### **Q1 Create a random tensor with shape `(7, 7)`**\n"
      ]
    },
    {
      "cell_type": "code",
      "execution_count": 4,
      "metadata": {
        "id": "6pUq9Dc8i2L7",
        "outputId": "98b46e4d-9090-49e0-89ff-4ba021ce04de",
        "colab": {
          "base_uri": "https://localhost:8080/"
        }
      },
      "outputs": [
        {
          "output_type": "stream",
          "name": "stdout",
          "text": [
            "tensor([[0.8797, 0.6570, 0.8940, 0.9844, 0.4731, 0.6474, 0.9112],\n",
            "        [0.5101, 0.7798, 0.8910, 0.9802, 0.1784, 0.0479, 0.8882],\n",
            "        [0.4132, 0.1458, 0.4947, 0.3170, 0.7848, 0.4417, 0.4174],\n",
            "        [0.5553, 0.8278, 0.0013, 0.8217, 0.2072, 0.4652, 0.0982],\n",
            "        [0.6137, 0.8912, 0.1103, 0.9731, 0.5374, 0.2465, 0.2354],\n",
            "        [0.1467, 0.8325, 0.2956, 0.7920, 0.9327, 0.2418, 0.4154],\n",
            "        [0.3952, 0.3465, 0.4470, 0.6049, 0.2348, 0.3347, 0.0119]])\n"
          ]
        }
      ],
      "source": [
        "# Your code here\n",
        "matrix1 = torch.rand(7, 7)\n",
        "print(matrix1)"
      ]
    },
    {
      "cell_type": "markdown",
      "metadata": {
        "id": "9-XxvRLfiqkR"
      },
      "source": [
        "### **Q2 Perform a matrix multiplication on the tensor from Q1 with another random tensor with shape `(1, 7)`**"
      ]
    },
    {
      "cell_type": "code",
      "execution_count": 5,
      "metadata": {
        "id": "NcLqR0Sbi_vT",
        "outputId": "a76bf903-25d8-4dd6-8e51-ca11f7bfd6ec",
        "colab": {
          "base_uri": "https://localhost:8080/"
        }
      },
      "outputs": [
        {
          "output_type": "stream",
          "name": "stdout",
          "text": [
            "tensor([[1.5739],\n",
            "        [1.3063],\n",
            "        [0.8193],\n",
            "        [0.5902],\n",
            "        [0.7892],\n",
            "        [0.8613],\n",
            "        [0.3898]])\n"
          ]
        }
      ],
      "source": [
        "# Your code here\n",
        "matrix2 = torch.rand(1, 7)\n",
        "output1 = torch.matmul(matrix1, matrix2.T)\n",
        "print(output1)"
      ]
    },
    {
      "cell_type": "markdown",
      "metadata": {
        "id": "eiutdKUFiryU"
      },
      "source": [
        "### **Q3 Set the random seed to `0` and do Q1 & Q2 over again**"
      ]
    },
    {
      "cell_type": "code",
      "execution_count": 26,
      "metadata": {
        "id": "D-lOWI_1jRMm",
        "outputId": "952b4bc2-17f7-4184-aec9-bd7a54222297",
        "colab": {
          "base_uri": "https://localhost:8080/"
        }
      },
      "outputs": [
        {
          "output_type": "stream",
          "name": "stdout",
          "text": [
            "tensor([[0.4963, 0.7682, 0.0885, 0.1320, 0.3074, 0.6341, 0.4901],\n",
            "        [0.8964, 0.4556, 0.6323, 0.3489, 0.4017, 0.0223, 0.1689],\n",
            "        [0.2939, 0.5185, 0.6977, 0.8000, 0.1610, 0.2823, 0.6816],\n",
            "        [0.9152, 0.3971, 0.8742, 0.4194, 0.5529, 0.9527, 0.0362],\n",
            "        [0.1852, 0.3734, 0.3051, 0.9320, 0.1759, 0.2698, 0.1507],\n",
            "        [0.0317, 0.2081, 0.9298, 0.7231, 0.7423, 0.5263, 0.2437],\n",
            "        [0.5846, 0.0332, 0.1387, 0.2422, 0.8155, 0.7932, 0.2783]])\n",
            "tensor([[1.8542],\n",
            "        [1.9611],\n",
            "        [2.2884],\n",
            "        [3.0481],\n",
            "        [1.7067],\n",
            "        [2.5290],\n",
            "        [1.7989]])\n"
          ]
        }
      ],
      "source": [
        "# Your code here\n",
        "torch.manual_seed(0)\n",
        "matrix1 = torch.rand(7, 7)\n",
        "matrix2 = torch.rand(7, 1)\n",
        "print(matrix1)\n",
        "print(torch.matmul(matrix1, matrix2))"
      ]
    },
    {
      "cell_type": "markdown",
      "metadata": {
        "id": "ezY6ks9Cis37"
      },
      "source": [
        "### **Q4 Speaking of random seeds, we saw how to set it with `torch.manual_seed()` but is there a GPU equivalent?**\n",
        "  * If there is, set the GPU random seed to `1234`"
      ]
    },
    {
      "cell_type": "code",
      "execution_count": 14,
      "metadata": {
        "id": "_LKWcfSTjp00"
      },
      "outputs": [],
      "source": [
        "# Your code here\n",
        "torch.cuda.manual_seed(1234)"
      ]
    },
    {
      "cell_type": "markdown",
      "metadata": {
        "id": "Ir9qSaj6it4n"
      },
      "source": [
        "\n",
        "### **Q5 Create two random tensors of shape `(2, 3)` and send them both to the GPU. Set `torch.manual_seed(1234)` when creating the tensors (this doesn't have to be the GPU random seed)**"
      ]
    },
    {
      "cell_type": "code",
      "execution_count": 19,
      "metadata": {
        "id": "azXExiFZj5nm"
      },
      "outputs": [],
      "source": [
        "# Your code here\n",
        "torch.manual_seed(1234)\n",
        "matrix1 = torch.rand(2, 3)\n",
        "matrix2 = torch.rand(2, 3)"
      ]
    },
    {
      "cell_type": "markdown",
      "metadata": {
        "id": "5TlAxeiSiu1y"
      },
      "source": [
        "\n",
        "### **Q6 Perform a matrix multiplication on the tensors you created in Q5**"
      ]
    },
    {
      "cell_type": "code",
      "execution_count": 20,
      "metadata": {
        "id": "fAeG7ox0lHEO",
        "outputId": "49e2ae25-3037-4e7b-fd01-7b4e46e40d8f",
        "colab": {
          "base_uri": "https://localhost:8080/"
        }
      },
      "outputs": [
        {
          "output_type": "stream",
          "name": "stdout",
          "text": [
            "tensor([[0.3647, 0.4709],\n",
            "        [0.5184, 0.5617]])\n"
          ]
        }
      ],
      "source": [
        "# Your code here\n",
        "output1 = torch.matmul(matrix1, matrix2.T)\n",
        "print(output1)"
      ]
    },
    {
      "cell_type": "markdown",
      "metadata": {
        "id": "G7qfa5CSivwg"
      },
      "source": [
        "### **Q7 Find the maximum and minimum values of the output of Q6**"
      ]
    },
    {
      "cell_type": "code",
      "execution_count": 22,
      "metadata": {
        "id": "Fu8_3mZpllOd",
        "outputId": "402dd924-78cd-49fe-cfb0-9bd8ecc05b97",
        "colab": {
          "base_uri": "https://localhost:8080/"
        }
      },
      "outputs": [
        {
          "output_type": "stream",
          "name": "stdout",
          "text": [
            "tensor(0.5617)\n",
            "tensor(0.3647)\n"
          ]
        }
      ],
      "source": [
        "# Your code here\n",
        "print(output1.max())\n",
        "print(output1.min())"
      ]
    },
    {
      "cell_type": "markdown",
      "metadata": {
        "id": "wrTj5FgNiw47"
      },
      "source": [
        "### **Q8 Find the maximum and minimum index values of the output of Q6**"
      ]
    },
    {
      "cell_type": "code",
      "execution_count": 23,
      "metadata": {
        "id": "CCEKt4K2lsfQ",
        "outputId": "8e43c366-d882-4eb3-bb39-285318dab50a",
        "colab": {
          "base_uri": "https://localhost:8080/"
        }
      },
      "outputs": [
        {
          "output_type": "stream",
          "name": "stdout",
          "text": [
            "tensor(3)\n",
            "tensor(0)\n"
          ]
        }
      ],
      "source": [
        "# Your code here\n",
        "print(output1.argmax())\n",
        "print(output1.argmin())"
      ]
    },
    {
      "cell_type": "markdown",
      "metadata": {
        "id": "Bx9GBibjnBt-"
      },
      "source": [
        "### **Q9 Perform a matrix multiplication on the tensors you created in Q5 in `numpy` and convert the output to tensor**"
      ]
    },
    {
      "cell_type": "code",
      "execution_count": 33,
      "metadata": {
        "id": "Hi9HvztnnOMm",
        "outputId": "4fb9bb04-cf5f-47e7-efb8-1912657445de",
        "colab": {
          "base_uri": "https://localhost:8080/",
          "height": 216
        }
      },
      "outputs": [
        {
          "output_type": "error",
          "ename": "ValueError",
          "evalue": "shapes (7,7) and (1,7) not aligned: 7 (dim 1) != 1 (dim 0)",
          "traceback": [
            "\u001b[0;31m---------------------------------------------------------------------------\u001b[0m",
            "\u001b[0;31mValueError\u001b[0m                                Traceback (most recent call last)",
            "\u001b[0;32m<ipython-input-33-7387b43eb3b3>\u001b[0m in \u001b[0;36m<cell line: 4>\u001b[0;34m()\u001b[0m\n\u001b[1;32m      2\u001b[0m \u001b[0mmatrixnumpy1\u001b[0m \u001b[0;34m=\u001b[0m \u001b[0mmatrix1\u001b[0m\u001b[0;34m.\u001b[0m\u001b[0mnumpy\u001b[0m\u001b[0;34m(\u001b[0m\u001b[0;34m)\u001b[0m\u001b[0;34m\u001b[0m\u001b[0;34m\u001b[0m\u001b[0m\n\u001b[1;32m      3\u001b[0m \u001b[0mmatrixnumpy2\u001b[0m \u001b[0;34m=\u001b[0m \u001b[0mmatrix2\u001b[0m\u001b[0;34m.\u001b[0m\u001b[0mnumpy\u001b[0m\u001b[0;34m(\u001b[0m\u001b[0;34m)\u001b[0m\u001b[0;34m\u001b[0m\u001b[0;34m\u001b[0m\u001b[0m\n\u001b[0;32m----> 4\u001b[0;31m \u001b[0mmatrixoutput1\u001b[0m \u001b[0;34m=\u001b[0m \u001b[0mmatrixnumpy1\u001b[0m\u001b[0;34m.\u001b[0m\u001b[0mdot\u001b[0m\u001b[0;34m(\u001b[0m\u001b[0mmatrixnumpy2\u001b[0m\u001b[0;34m.\u001b[0m\u001b[0mT\u001b[0m\u001b[0;34m)\u001b[0m\u001b[0;34m\u001b[0m\u001b[0;34m\u001b[0m\u001b[0m\n\u001b[0m\u001b[1;32m      5\u001b[0m \u001b[0mprint\u001b[0m\u001b[0;34m(\u001b[0m\u001b[0mmatrixoutput1\u001b[0m\u001b[0;34m)\u001b[0m\u001b[0;34m\u001b[0m\u001b[0;34m\u001b[0m\u001b[0m\n\u001b[1;32m      6\u001b[0m \u001b[0moutput2\u001b[0m \u001b[0;34m=\u001b[0m \u001b[0mtorch\u001b[0m\u001b[0;34m.\u001b[0m\u001b[0mfrom_numpy\u001b[0m\u001b[0;34m(\u001b[0m\u001b[0mmatrixoutput1\u001b[0m\u001b[0;34m)\u001b[0m\u001b[0;34m\u001b[0m\u001b[0;34m\u001b[0m\u001b[0m\n",
            "\u001b[0;31mValueError\u001b[0m: shapes (7,7) and (1,7) not aligned: 7 (dim 1) != 1 (dim 0)"
          ]
        }
      ],
      "source": [
        "# Your code here\n",
        "matrixnumpy1 = matrix1.numpy()\n",
        "matrixnumpy2 = matrix2.numpy()\n",
        "matrixoutput1 = matrixnumpy1.dot(matrixnumpy2.T)\n",
        "print(matrixoutput1)\n",
        "output2 = torch.from_numpy(matrixoutput1)\n",
        "print(output2)"
      ]
    },
    {
      "cell_type": "markdown",
      "metadata": {
        "id": "hmeybz4uixy7"
      },
      "source": [
        "\n",
        "### **Q10 Make a random tensor with shape `(1, 1, 1, 10)` and then convert it to a tensor of shape `(10)`. Set the seed to `7` when you create it and print out the first tensor and it's shape as well as the second tensor and it's shape**"
      ]
    },
    {
      "cell_type": "code",
      "execution_count": 32,
      "metadata": {
        "id": "TQ9zbRzVl1jV",
        "outputId": "b59246f8-3ea5-4077-ad48-57e6f9a44b30",
        "colab": {
          "base_uri": "https://localhost:8080/"
        }
      },
      "outputs": [
        {
          "output_type": "stream",
          "name": "stdout",
          "text": [
            "tensor([[[[0.5349, 0.1988, 0.6592, 0.6569, 0.2328, 0.4251, 0.2071, 0.6297,\n",
            "           0.3653, 0.8513]]]])\n",
            "torch.Size([1, 1, 1, 10])\n",
            "tensor([0.5349, 0.1988, 0.6592, 0.6569, 0.2328, 0.4251, 0.2071, 0.6297, 0.3653,\n",
            "        0.8513])\n",
            "torch.Size([10])\n"
          ]
        }
      ],
      "source": [
        "# Your code here\n",
        "torch.manual_seed(7)\n",
        "shape1 = torch.rand(1,1,1,10)\n",
        "print(shape1)\n",
        "print(shape1.shape)\n",
        "squeezedShape = torch.squeeze(shape1)\n",
        "print(squeezedShape)\n",
        "print(squeezedShape.shape)\n"
      ]
    }
  ],
  "metadata": {
    "colab": {
      "provenance": [],
      "include_colab_link": true
    },
    "kernelspec": {
      "display_name": "Python 3",
      "name": "python3"
    },
    "language_info": {
      "name": "python"
    }
  },
  "nbformat": 4,
  "nbformat_minor": 0
}