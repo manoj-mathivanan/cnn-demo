{
  "cells": [
    {
      "cell_type": "markdown",
      "metadata": {
        "id": "X3aixl7nOZgd"
      },
      "source": [
        "# **PyTorch Classification Exercise**"
      ]
    },
    {
      "cell_type": "code",
      "execution_count": 1,
      "metadata": {
        "id": "GaeYzOTLwWh2",
        "outputId": "8af90e46-2ff3-4fa3-ac35-cc723d68a258",
        "colab": {
          "base_uri": "https://localhost:8080/"
        }
      },
      "outputs": [
        {
          "output_type": "stream",
          "name": "stdout",
          "text": [
            "Sun Oct 27 15:43:30 2024       \n",
            "+---------------------------------------------------------------------------------------+\n",
            "| NVIDIA-SMI 535.104.05             Driver Version: 535.104.05   CUDA Version: 12.2     |\n",
            "|-----------------------------------------+----------------------+----------------------+\n",
            "| GPU  Name                 Persistence-M | Bus-Id        Disp.A | Volatile Uncorr. ECC |\n",
            "| Fan  Temp   Perf          Pwr:Usage/Cap |         Memory-Usage | GPU-Util  Compute M. |\n",
            "|                                         |                      |               MIG M. |\n",
            "|=========================================+======================+======================|\n",
            "|   0  Tesla T4                       Off | 00000000:00:04.0 Off |                    0 |\n",
            "| N/A   50C    P8              10W /  70W |      0MiB / 15360MiB |      0%      Default |\n",
            "|                                         |                      |                  N/A |\n",
            "+-----------------------------------------+----------------------+----------------------+\n",
            "                                                                                         \n",
            "+---------------------------------------------------------------------------------------+\n",
            "| Processes:                                                                            |\n",
            "|  GPU   GI   CI        PID   Type   Process name                            GPU Memory |\n",
            "|        ID   ID                                                             Usage      |\n",
            "|=======================================================================================|\n",
            "|  No running processes found                                                           |\n",
            "+---------------------------------------------------------------------------------------+\n"
          ]
        }
      ],
      "source": [
        "# Check for GPU\n",
        "!nvidia-smi"
      ]
    },
    {
      "cell_type": "code",
      "execution_count": 2,
      "metadata": {
        "id": "DNwZLMbCzJLk",
        "outputId": "8844ba43-db60-45d3-e6bb-1f5455ad3882",
        "colab": {
          "base_uri": "https://localhost:8080/",
          "height": 71
        }
      },
      "outputs": [
        {
          "output_type": "stream",
          "name": "stdout",
          "text": [
            "PyTorch version: 2.5.0+cu121\n",
            "torchvision version: 0.20.0+cu121\n"
          ]
        },
        {
          "output_type": "execute_result",
          "data": {
            "text/plain": [
              "'cuda'"
            ],
            "application/vnd.google.colaboratory.intrinsic+json": {
              "type": "string"
            }
          },
          "metadata": {},
          "execution_count": 2
        }
      ],
      "source": [
        "# Import torch\n",
        "import torch\n",
        "from torch import nn\n",
        "\n",
        "# Import torchvision\n",
        "import torchvision\n",
        "from torchvision import datasets\n",
        "from torchvision.transforms import ToTensor\n",
        "\n",
        "from torch.utils.data import DataLoader\n",
        "from torchvision import datasets, transforms\n",
        "\n",
        "# Import matplotlib for visualization\n",
        "import matplotlib.pyplot as plt\n",
        "\n",
        "# Check versions\n",
        "# Note: your PyTorch version shouldn't be lower than 1.10.0 and torchvision version shouldn't be lower than 0.11\n",
        "print(f\"PyTorch version: {torch.__version__}\\ntorchvision version: {torchvision.__version__}\")\n",
        "\n",
        "# TODO: Setup device agnostic code\n",
        "device = \"cuda\" if torch.cuda.is_available() else \"cpu\"\n",
        "device"
      ]
    },
    {
      "cell_type": "markdown",
      "metadata": {
        "id": "lj6bDhoWxt2y"
      },
      "source": [
        "## **Q1 Create a random tensor of shape `[1, 3, 64, 64]` and pass it through a `nn.Conv2d()` layer with various hyperparameter settings (these can be any settings you choose), what do you notice if the `kernel_size` parameter goes up and down?**"
      ]
    },
    {
      "cell_type": "code",
      "execution_count": 3,
      "metadata": {
        "id": "RZLr3jgCQr-3",
        "outputId": "f17fdb2b-7cb0-464a-9254-ee513eaf7d76",
        "colab": {
          "base_uri": "https://localhost:8080/"
        }
      },
      "outputs": [
        {
          "output_type": "stream",
          "name": "stdout",
          "text": [
            "torch.Size([1, 10, 64, 64])\n"
          ]
        }
      ],
      "source": [
        "# Your code here\n",
        "tensor_shape = torch.rand(size=(1, 3, 64, 64))\n",
        "m = nn.Conv2d(3, 10, 3, stride=1, padding=1)\n",
        "output = m(tensor_shape)\n",
        "print(output.shape)"
      ]
    },
    {
      "cell_type": "markdown",
      "metadata": {
        "id": "blmz6O20PPB1"
      },
      "source": [
        "## **Q2 Write transforms necessary for data augmentation for the `MNIST` dataset**"
      ]
    },
    {
      "cell_type": "code",
      "execution_count": 4,
      "metadata": {
        "id": "K-fNJolsPzH8"
      },
      "outputs": [],
      "source": [
        "# Your code here\n",
        "data_transform = transforms.Compose([\n",
        "    transforms.Grayscale(num_output_channels=1), # convert image to grayscale\n",
        "    # Turn the image into a torch.Tensor\n",
        "    transforms.ToTensor() # this also converts all pixel values from 0 to 255 to be between 0.0 and 1.0\n",
        "])"
      ]
    },
    {
      "cell_type": "markdown",
      "metadata": {
        "id": "lvf-3pODxXYI"
      },
      "source": [
        "## **Q3 Load the [`torchvision.datasets.MNIST()`](https://pytorch.org/vision/stable/generated/torchvision.datasets.MNIST.html#torchvision.datasets.MNIST) train and test datasets**"
      ]
    },
    {
      "cell_type": "code",
      "execution_count": 5,
      "metadata": {
        "id": "SHjeuN81bHza",
        "collapsed": true,
        "outputId": "196880bc-da4e-48e9-81c5-2b36616f527a",
        "colab": {
          "base_uri": "https://localhost:8080/"
        }
      },
      "outputs": [
        {
          "output_type": "stream",
          "name": "stdout",
          "text": [
            "Downloading http://yann.lecun.com/exdb/mnist/train-images-idx3-ubyte.gz\n",
            "Failed to download (trying next):\n",
            "<urlopen error [SSL: CERTIFICATE_VERIFY_FAILED] certificate verify failed: certificate has expired (_ssl.c:1007)>\n",
            "\n",
            "Downloading https://ossci-datasets.s3.amazonaws.com/mnist/train-images-idx3-ubyte.gz\n",
            "Downloading https://ossci-datasets.s3.amazonaws.com/mnist/train-images-idx3-ubyte.gz to data/MNIST/raw/train-images-idx3-ubyte.gz\n"
          ]
        },
        {
          "output_type": "stream",
          "name": "stderr",
          "text": [
            "100%|██████████| 9.91M/9.91M [00:00<00:00, 15.5MB/s]\n"
          ]
        },
        {
          "output_type": "stream",
          "name": "stdout",
          "text": [
            "Extracting data/MNIST/raw/train-images-idx3-ubyte.gz to data/MNIST/raw\n",
            "\n",
            "Downloading http://yann.lecun.com/exdb/mnist/train-labels-idx1-ubyte.gz\n",
            "Failed to download (trying next):\n",
            "<urlopen error [SSL: CERTIFICATE_VERIFY_FAILED] certificate verify failed: certificate has expired (_ssl.c:1007)>\n",
            "\n",
            "Downloading https://ossci-datasets.s3.amazonaws.com/mnist/train-labels-idx1-ubyte.gz\n",
            "Downloading https://ossci-datasets.s3.amazonaws.com/mnist/train-labels-idx1-ubyte.gz to data/MNIST/raw/train-labels-idx1-ubyte.gz\n"
          ]
        },
        {
          "output_type": "stream",
          "name": "stderr",
          "text": [
            "100%|██████████| 28.9k/28.9k [00:00<00:00, 483kB/s]\n"
          ]
        },
        {
          "output_type": "stream",
          "name": "stdout",
          "text": [
            "Extracting data/MNIST/raw/train-labels-idx1-ubyte.gz to data/MNIST/raw\n",
            "\n",
            "Downloading http://yann.lecun.com/exdb/mnist/t10k-images-idx3-ubyte.gz\n",
            "Failed to download (trying next):\n",
            "<urlopen error [SSL: CERTIFICATE_VERIFY_FAILED] certificate verify failed: certificate has expired (_ssl.c:1007)>\n",
            "\n",
            "Downloading https://ossci-datasets.s3.amazonaws.com/mnist/t10k-images-idx3-ubyte.gz\n",
            "Downloading https://ossci-datasets.s3.amazonaws.com/mnist/t10k-images-idx3-ubyte.gz to data/MNIST/raw/t10k-images-idx3-ubyte.gz\n"
          ]
        },
        {
          "output_type": "stream",
          "name": "stderr",
          "text": [
            "100%|██████████| 1.65M/1.65M [00:01<00:00, 1.55MB/s]\n"
          ]
        },
        {
          "output_type": "stream",
          "name": "stdout",
          "text": [
            "Extracting data/MNIST/raw/t10k-images-idx3-ubyte.gz to data/MNIST/raw\n",
            "\n",
            "Downloading http://yann.lecun.com/exdb/mnist/t10k-labels-idx1-ubyte.gz\n",
            "Failed to download (trying next):\n",
            "<urlopen error [SSL: CERTIFICATE_VERIFY_FAILED] certificate verify failed: certificate has expired (_ssl.c:1007)>\n",
            "\n",
            "Downloading https://ossci-datasets.s3.amazonaws.com/mnist/t10k-labels-idx1-ubyte.gz\n",
            "Downloading https://ossci-datasets.s3.amazonaws.com/mnist/t10k-labels-idx1-ubyte.gz to data/MNIST/raw/t10k-labels-idx1-ubyte.gz\n"
          ]
        },
        {
          "output_type": "stream",
          "name": "stderr",
          "text": [
            "100%|██████████| 4.54k/4.54k [00:00<00:00, 5.19MB/s]"
          ]
        },
        {
          "output_type": "stream",
          "name": "stdout",
          "text": [
            "Extracting data/MNIST/raw/t10k-labels-idx1-ubyte.gz to data/MNIST/raw\n",
            "\n"
          ]
        },
        {
          "output_type": "stream",
          "name": "stderr",
          "text": [
            "\n"
          ]
        }
      ],
      "source": [
        "# Your code here\n",
        "# Setup training data\n",
        "train_data = datasets.MNIST(\n",
        "    root=\"data\", # where to download data to?\n",
        "    train=True, # get training data\n",
        "    download=True, # download data if it doesn't exist on disk\n",
        "    transform=data_transform, # images come as PIL format, we want to turn into Torch tensors\n",
        "    target_transform=None # you can transform labels as well\n",
        ")\n",
        "\n",
        "# Setup testing data\n",
        "test_data = datasets.MNIST(\n",
        "    root=\"data\",\n",
        "    train=False, # get test data\n",
        "    download=True,\n",
        "    transform=data_transform\n",
        ")\n",
        "\n",
        "class_names = train_data.classes"
      ]
    },
    {
      "cell_type": "markdown",
      "metadata": {
        "id": "qxZW-uAbxe_F"
      },
      "source": [
        "## **Q4 Visualize at least 5 different samples of the MNIST training dataset**"
      ]
    },
    {
      "cell_type": "code",
      "execution_count": 6,
      "metadata": {
        "id": "3fgmULhWPPbo",
        "outputId": "44a7a3a0-d986-4d75-880c-ebba4bb2a220",
        "colab": {
          "base_uri": "https://localhost:8080/",
          "height": 103
        }
      },
      "outputs": [
        {
          "output_type": "display_data",
          "data": {
            "text/plain": [
              "<Figure size 1000x1000 with 10 Axes>"
            ],
            "image/png": "[encoded data removed]"
          },
          "metadata": {}
        }
      ],
      "source": [
        "# Your code here\n",
        "torch.manual_seed(42)\n",
        "fig = plt.figure(figsize=(10,10))\n",
        "for i in range(1, 11):\n",
        "  random_idx = torch.randint(0, len(train_data), size=[1]).item()\n",
        "  fig.add_subplot(1,10,i)\n",
        "  img, label = train_data[random_idx]\n",
        "  plt.imshow(img.squeeze())\n",
        "  plt.title(class_names[label])\n",
        "  plt.axis(\"Off\");"
      ]
    },
    {
      "cell_type": "markdown",
      "metadata": {
        "id": "JAPDzW0wxhi3"
      },
      "source": [
        "## **Q5 Turn the MNIST train and test datasets into dataloaders using `torch.utils.data.DataLoader`, set the `batch_size=32`**"
      ]
    },
    {
      "cell_type": "code",
      "execution_count": 7,
      "metadata": {
        "id": "ALA6MPcFbJXQ",
        "outputId": "2a7197c8-c90e-4d1a-ce36-68eada5fd76d",
        "colab": {
          "base_uri": "https://localhost:8080/"
        }
      },
      "outputs": [
        {
          "output_type": "execute_result",
          "data": {
            "text/plain": [
              "(Dataset MNIST\n",
              "     Number of datapoints: 60000\n",
              "     Root location: data\n",
              "     Split: Train\n",
              "     StandardTransform\n",
              " Transform: Compose(\n",
              "                Grayscale(num_output_channels=1)\n",
              "                ToTensor()\n",
              "            ),\n",
              " Dataset MNIST\n",
              "     Number of datapoints: 10000\n",
              "     Root location: data\n",
              "     Split: Test\n",
              "     StandardTransform\n",
              " Transform: Compose(\n",
              "                Grayscale(num_output_channels=1)\n",
              "                ToTensor()\n",
              "            ))"
            ]
          },
          "metadata": {},
          "execution_count": 7
        }
      ],
      "source": [
        "# Your code here\n",
        "train_dataloader= DataLoader(dataset=train_data, # use custom created train Dataset\n",
        "                                     batch_size=32, # how many samples per batch?\n",
        "                                     num_workers=0, # how many subprocesses to use for data loading? (higher = more)\n",
        "                                     shuffle=True) # shuffle the data?\n",
        "\n",
        "test_dataloader = DataLoader(dataset=test_data, # use custom created test Dataset\n",
        "                                    batch_size=32,\n",
        "                                    num_workers=0,\n",
        "                                    shuffle=False) # don't usually need to shuffle testing data\n",
        "\n",
        "train_data, test_data"
      ]
    },
    {
      "cell_type": "markdown",
      "metadata": {
        "id": "bCCVfXk5xjYS"
      },
      "source": [
        "## **Q6 Create a CNN model capable of fitting on the MNIST dataset. You can select any known architecture or create a variant of your own**"
      ]
    },
    {
      "cell_type": "code",
      "execution_count": 8,
      "metadata": {
        "id": "5IKNF22XbKYS",
        "outputId": "34d4d3e6-6c48-483a-a191-212404cd3028",
        "colab": {
          "base_uri": "https://localhost:8080/"
        }
      },
      "outputs": [
        {
          "output_type": "execute_result",
          "data": {
            "text/plain": [
              "(CNNModelMNIST(\n",
              "   (block1): Sequential(\n",
              "     (0): Conv2d(1, 10, kernel_size=(3, 3), stride=(1, 1), padding=(1, 1))\n",
              "     (1): ReLU()\n",
              "     (2): Conv2d(10, 10, kernel_size=(3, 3), stride=(1, 1), padding=(1, 1))\n",
              "     (3): ReLU()\n",
              "     (4): MaxPool2d(kernel_size=2, stride=2, padding=0, dilation=1, ceil_mode=False)\n",
              "   )\n",
              "   (block2): Sequential(\n",
              "     (0): Conv2d(10, 10, kernel_size=(3, 3), stride=(1, 1), padding=(1, 1))\n",
              "     (1): ReLU()\n",
              "     (2): Conv2d(10, 10, kernel_size=(3, 3), stride=(1, 1), padding=(1, 1))\n",
              "     (3): ReLU()\n",
              "     (4): MaxPool2d(kernel_size=2, stride=2, padding=0, dilation=1, ceil_mode=False)\n",
              "   )\n",
              "   (classifier): Sequential(\n",
              "     (0): Flatten(start_dim=1, end_dim=-1)\n",
              "     (1): Linear(in_features=490, out_features=10, bias=True)\n",
              "   )\n",
              " ),\n",
              " SGD (\n",
              " Parameter Group 0\n",
              "     dampening: 0\n",
              "     differentiable: False\n",
              "     foreach: None\n",
              "     fused: None\n",
              "     lr: 0.1\n",
              "     maximize: False\n",
              "     momentum: 0\n",
              "     nesterov: False\n",
              "     weight_decay: 0\n",
              " ))"
            ]
          },
          "metadata": {},
          "execution_count": 8
        }
      ],
      "source": [
        "# Your code here\n",
        "class CNNModelMNIST(nn.Module):\n",
        "  def __init__(self):\n",
        "    super().__init__()\n",
        "    self.block1 = nn.Sequential(\n",
        "        nn.Conv2d(1,10,3, stride=1, padding=1),\n",
        "        nn.ReLU(),\n",
        "        nn.Conv2d(10,10,3, stride=1, padding=1),\n",
        "        nn.ReLU(),\n",
        "        nn.MaxPool2d(kernel_size=2, stride=2)\n",
        "    )\n",
        "    self.block2 = nn.Sequential(\n",
        "        nn.Conv2d(10,10,3, stride=1, padding=1),\n",
        "        nn.ReLU(),\n",
        "        nn.Conv2d(10,10,3, stride=1, padding=1),\n",
        "        nn.ReLU(),\n",
        "        nn.MaxPool2d(2)\n",
        "    )\n",
        "    self.classifier = nn.Sequential(\n",
        "        nn.Flatten(),\n",
        "        nn.Linear(in_features=10*7*7, out_features=10)\n",
        "    )\n",
        "\n",
        "  def forward(self, x):\n",
        "    x = self.block1(x)\n",
        "    x = self.block2(x)\n",
        "    x = self.classifier(x)\n",
        "    return x\n",
        "\n",
        "model = CNNModelMNIST()\n",
        "\n",
        "loss_fn = nn.CrossEntropyLoss()\n",
        "optimizer = torch.optim.SGD(params=model.parameters(), lr=0.1)\n",
        "\n",
        "model, optimizer"
      ]
    },
    {
      "cell_type": "markdown",
      "metadata": {
        "id": "sf_3zUr7xlhy"
      },
      "source": [
        "## **Q7 Train the model you built in Q5 for 5 epochs**"
      ]
    },
    {
      "cell_type": "code",
      "execution_count": 9,
      "metadata": {
        "id": "jSo6vVWFbNLD",
        "outputId": "1b60a2cf-cc6b-4915-a4e7-e842ef549f93",
        "colab": {
          "base_uri": "https://localhost:8080/"
        }
      },
      "outputs": [
        {
          "output_type": "stream",
          "name": "stdout",
          "text": [
            "Epoch: 0\n",
            "---------\n",
            "Epoch: 1\n",
            "---------\n",
            "Epoch: 2\n",
            "---------\n",
            "Epoch: 3\n",
            "---------\n",
            "Epoch: 4\n",
            "---------\n"
          ]
        }
      ],
      "source": [
        "# Your code here\n",
        "model.train()\n",
        "epochs = 5\n",
        "model = model.to(device)\n",
        "for epoch in range(epochs):\n",
        "  print(f\"Epoch: {epoch}\\n---------\")\n",
        "  for batch, (X, y) in enumerate(train_dataloader):\n",
        "    X=X.to(device)\n",
        "    y=y.to(device)\n",
        "    prediction = model(X)\n",
        "    loss = loss_fn(prediction, y)\n",
        "    optimizer.zero_grad()\n",
        "    loss.backward()\n",
        "    optimizer.step()"
      ]
    },
    {
      "cell_type": "markdown",
      "metadata": {
        "id": "w1CsHhPpxp1w"
      },
      "source": [
        "## **Q8 Make predictions using your trained model and visualize at least 5 of them comparing the prediciton to the target label**"
      ]
    },
    {
      "cell_type": "code",
      "execution_count": 14,
      "metadata": {
        "id": "_YGgZvSobNxu",
        "outputId": "7287b446-1950-4104-9d55-a0b443f29dc5",
        "colab": {
          "base_uri": "https://localhost:8080/",
          "height": 412
        }
      },
      "outputs": [
        {
          "output_type": "stream",
          "name": "stdout",
          "text": [
            "tensor([0.1030, 0.0939, 0.1040, 0.0965, 0.0991, 0.1016, 0.0998, 0.0993, 0.1026,\n",
            "        0.1001], device='cuda:0'), 2, 0.10402806103229523\n",
            "tensor([0.1038, 0.0933, 0.1045, 0.0970, 0.0999, 0.1013, 0.0992, 0.0984, 0.1019,\n",
            "        0.1007], device='cuda:0'), 2, 0.10451270639896393\n",
            "tensor([0.1032, 0.0937, 0.1045, 0.0970, 0.0993, 0.1012, 0.0998, 0.0984, 0.1025,\n",
            "        0.1005], device='cuda:0'), 2, 0.1044716015458107\n",
            "tensor([0.1036, 0.0933, 0.1045, 0.0965, 0.0995, 0.1013, 0.1004, 0.0984, 0.1021,\n",
            "        0.1004], device='cuda:0'), 2, 0.10445484519004822\n",
            "tensor([0.1032, 0.0941, 0.1045, 0.0970, 0.0991, 0.1013, 0.0992, 0.0986, 0.1020,\n",
            "        0.1009], device='cuda:0'), 2, 0.1044858992099762\n",
            "tensor([0.1034, 0.0932, 0.1048, 0.0972, 0.0995, 0.1012, 0.0993, 0.0986, 0.1022,\n",
            "        0.1006], device='cuda:0'), 2, 0.10479122400283813\n",
            "tensor([0.1039, 0.0937, 0.1043, 0.0966, 0.0996, 0.1011, 0.0993, 0.0986, 0.1023,\n",
            "        0.1005], device='cuda:0'), 2, 0.10433141142129898\n",
            "tensor([0.1035, 0.0936, 0.1049, 0.0965, 0.0995, 0.1021, 0.0997, 0.0980, 0.1018,\n",
            "        0.1005], device='cuda:0'), 2, 0.10487750917673111\n",
            "tensor([0.1025, 0.0941, 0.1041, 0.0970, 0.0994, 0.1015, 0.0996, 0.0988, 0.1027,\n",
            "        0.1004], device='cuda:0'), 2, 0.1040806695818901\n",
            "tensor([0.1035, 0.0939, 0.1058, 0.0967, 0.0987, 0.1016, 0.0994, 0.0984, 0.1015,\n",
            "        0.1005], device='cuda:0'), 2, 0.10575024038553238\n"
          ]
        },
        {
          "output_type": "display_data",
          "data": {
            "text/plain": [
              "<Figure size 1000x1000 with 0 Axes>"
            ]
          },
          "metadata": {}
        }
      ],
      "source": [
        "# Your code here\n",
        "model.eval()\n",
        "torch.manual_seed(42)\n",
        "fig = plt.figure(figsize=(10,10))\n",
        "with torch.inference_mode():\n",
        "  for i in range(1, 11):\n",
        "    random_idx = torch.randint(0, len(test_data), size=[1]).item()\n",
        "    img, label = train_data[random_idx]\n",
        "    prediction = model(img.unsqueeze(dim=0).to(device))\n",
        "    probability = torch.softmax(prediction.squeeze(), dim=0)\n",
        "    print(f\"{probability}, {probability.argmax()}, {probability.max()}\")\n",
        "    #pred_label = class_names[probability.argmax()]\n",
        "    #fig.add_subplot(1,10,i)\n",
        "    #plt.imshow(img.squeeze())\n",
        "    #plt.title(pred_label)\n",
        "    #plt.axis(\"Off\");\n"
      ]
    },
    {
      "cell_type": "markdown",
      "metadata": {
        "id": "qQwzqlBWxrpG"
      },
      "source": [
        "## **Q9 Plot a confusion matrix comparing your model's predictions to the truth labels**\n",
        "\n"
      ]
    },
    {
      "cell_type": "code",
      "execution_count": null,
      "metadata": {
        "id": "leCTsqtSbR5P"
      },
      "outputs": [],
      "source": [
        "# Your code here"
      ]
    },
    {
      "cell_type": "markdown",
      "metadata": {
        "id": "VHS20cNTxwSi"
      },
      "source": [
        "## **Q10 Result Analysis**\n",
        "* Plot some predictions from the test_data above where the model was wrong alongside what the label of the image should've been.\n",
        "* After visualing these predictions do you think it's more of a **modelling error** or a **data error**?\n",
        "* As in, could the model do better or are the labels of the data too close to each other (e.g. a \"7\" label is too close to \"2\")?"
      ]
    },
    {
      "cell_type": "code",
      "execution_count": null,
      "metadata": {
        "id": "78a8LjtdbSZj"
      },
      "outputs": [],
      "source": [
        "# Your code here"
      ]
    }
  ],
  "metadata": {
    "accelerator": "GPU",
    "colab": {
      "provenance": [],
      "gpuType": "T4"
    },
    "kernelspec": {
      "display_name": "Python 3",
      "name": "python3"
    },
    "language_info": {
      "name": "python"
    }
  },
  "nbformat": 4,
  "nbformat_minor": 0
}